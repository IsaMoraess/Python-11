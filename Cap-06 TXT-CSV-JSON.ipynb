{
 "cells": [
  {
   "cell_type": "markdown",
   "id": "cb31bad1",
   "metadata": {},
   "source": [
    "# Manipulando Arquivos TXT\n",
    "\n",
    "TXT e a manipulaçao de arquivos de um texto para outro. Um arquivo TXT e um arquivo de texto simples sem formataçao, como negritos, italicos ou fontes diferentes. Ele pode ser aberto e editado com  muitos applicativos diferentes, incluindo editores de texto, processadores de texto e IDEs. Arquivos TXT sao amplamente utilizados para armazenar dados de textos simples, como listas, notas e documentos. Eles sao Universais e podem ser lidos em praticamente qualquer dispositivo ou Sistema Operacional."
   ]
  },
  {
   "cell_type": "code",
   "execution_count": 1,
   "id": "2e9dafcd",
   "metadata": {},
   "outputs": [],
   "source": [
    "texto = \"Cientista de Dados pode ser uma excelente alternativa na carreira.\\n\"\n",
    "texto = texto + \"Esses profissionais precisam saber progamr em Python.\\n\"\n",
    "texto += \"E claro, devem ser profissionais em Data Science.\""
   ]
  },
  {
   "cell_type": "code",
   "execution_count": 2,
   "id": "dbc8086e",
   "metadata": {},
   "outputs": [
    {
     "name": "stdout",
     "output_type": "stream",
     "text": [
      "Cientista de Dados pode ser uma excelente alternativa na carreira.\n",
      "Esses profissionais precisam saber progamr em Python.\n",
      "E claro, devem ser profissionais em Data Science.\n"
     ]
    }
   ],
   "source": [
    "print(texto)"
   ]
  },
  {
   "cell_type": "code",
   "execution_count": 3,
   "id": "28c16b8c",
   "metadata": {},
   "outputs": [],
   "source": [
    "# Importando o modulo os\n",
    "import os"
   ]
  },
  {
   "cell_type": "code",
   "execution_count": null,
   "id": "a7463270",
   "metadata": {},
   "outputs": [],
   "source": [
    "# Criando um arquivo \n",
    "arquivo = open(os.path.join('arquivos/cientista.txt'),'w')    # ARQUIVO EXEMPLO!!"
   ]
  },
  {
   "cell_type": "code",
   "execution_count": null,
   "id": "7f4157b7",
   "metadata": {},
   "outputs": [],
   "source": [
    "# Gravando os dados no arquivo\n",
    "for palavra in texto.split():\n",
    "    arquivo.write(palavra + ' ')"
   ]
  },
  {
   "cell_type": "code",
   "execution_count": null,
   "id": "636e7055",
   "metadata": {},
   "outputs": [],
   "source": [
    "# Fechando arquivo\n",
    "arquivo.close()"
   ]
  },
  {
   "cell_type": "code",
   "execution_count": null,
   "id": "4f166f2a",
   "metadata": {},
   "outputs": [],
   "source": [
    "# Lendo arquivo\n",
    "arquivo = open ('arquivos/cientista.txt', 'r') \n",
    "conteudo = arquivo.read()\n",
    "arquivo.close()\n",
    "\n",
    "print(conteudo)"
   ]
  },
  {
   "cell_type": "markdown",
   "id": "1c837b53",
   "metadata": {},
   "source": [
    "## Usando a Expressao with\n",
    "\n",
    "O metodo close() e executado automaticamente."
   ]
  },
  {
   "cell_type": "code",
   "execution_count": null,
   "id": "ee56bb86",
   "metadata": {},
   "outputs": [],
   "source": [
    "with open('arquivos/cientista.txt', 'r') as arquivo:\n",
    "    conteudo = arquivo.read()"
   ]
  },
  {
   "cell_type": "code",
   "execution_count": null,
   "id": "bdb53e0e",
   "metadata": {},
   "outputs": [],
   "source": [
    "print(len(conteudo))"
   ]
  },
  {
   "cell_type": "code",
   "execution_count": null,
   "id": "7197ca59",
   "metadata": {},
   "outputs": [],
   "source": [
    "print(conteudo)"
   ]
  },
  {
   "cell_type": "code",
   "execution_count": null,
   "id": "46c61259",
   "metadata": {},
   "outputs": [],
   "source": [
    "with open('arquivos/cientista.txt', 'w') as arquivo:\n",
    "    arquivo.write(texto[:19])\n",
    "    arquivo.write('\\n')\n",
    "    arquivo.write(texto[28:66])"
   ]
  },
  {
   "cell_type": "code",
   "execution_count": null,
   "id": "327c6ed8",
   "metadata": {},
   "outputs": [],
   "source": [
    "# Lendo arquivo\n",
    "arquivo = open('arquivos/cientista.txt', 'r')\n",
    "conteudo = arquivo.read()\n",
    "arquivo.close()\n",
    "print(conteudo)"
   ]
  },
  {
   "cell_type": "markdown",
   "id": "17907fc0",
   "metadata": {},
   "source": [
    "## Manipulando Arquivo CSV\n",
    "\n",
    "CSV e um formato de arquivo que armazena dados tabulares em formato de texto plano. Cada linha do arquivo CSV representa uma linha da tabela e as colunas sao separadas por virgulas. E amplamente utilizado para exportar e imprimir aplicaçoes, como planilhas e banco de dados. CSV e uma opçao simples e universal para compartilhar dados, pois pode ser aberto editado em muitos aplicativos diferentes, iincluindo progama de planilhas e editores de texto."
   ]
  },
  {
   "cell_type": "code",
   "execution_count": null,
   "id": "2c9376a0",
   "metadata": {},
   "outputs": [],
   "source": [
    "# Importando o modulo CSV\n",
    "import csv"
   ]
  },
  {
   "cell_type": "code",
   "execution_count": null,
   "id": "584cd622",
   "metadata": {},
   "outputs": [],
   "source": [
    "with open('arquivos/cientista.txt', 'w') as arquivos:\n",
    "    \n",
    "    writer = csv. writer(arquivo)\n",
    "    \n",
    "    writer.writerrow(('nota1', 'nota2', 'nota3'))\n",
    "    writer.writerrow((63,87,92))\n",
    "    writer.writerrow((61,79,76))\n",
    "    writer.writerrow((72,64,91))"
   ]
  },
  {
   "cell_type": "code",
   "execution_count": null,
   "id": "884448bf",
   "metadata": {},
   "outputs": [],
   "source": [
    "# Leitura de arquivos CSV\n",
    "with open('arquivos/cientista.txt', 'r', encoding='utf8', newline= '\\r\\n') as arquivos:\n",
    "    leitor = csv.reador(arquivo)\n",
    "    for x in leitor:\n",
    "        print(x)"
   ]
  },
  {
   "cell_type": "code",
   "execution_count": null,
   "id": "766f1c70",
   "metadata": {},
   "outputs": [],
   "source": [
    "# Gerandoo uma lista com dados do arquivo csv\n",
    "with open('arquivos/cientista.txt', 'r') as arquivos:\n",
    "     leitor = csv.reador(arquivo)\n",
    "    dados = list(leitor)"
   ]
  },
  {
   "cell_type": "code",
   "execution_count": null,
   "id": "7ef16764",
   "metadata": {},
   "outputs": [],
   "source": [
    "print(dados)"
   ]
  },
  {
   "cell_type": "code",
   "execution_count": null,
   "id": "374080f6",
   "metadata": {},
   "outputs": [],
   "source": [
    "# Imprimindo a partir da Segund linha\n",
    "for linha in dados[1:]:\n",
    "    print(linha)"
   ]
  },
  {
   "cell_type": "markdown",
   "id": "a3eda89d",
   "metadata": {},
   "source": [
    "## Manipulando arquivos JSON (Java Script Object Notation)\n",
    "\n",
    "JSON e um formato de dados de texto simples e leve que e utilizado para trasmitir informaçoes em aplicaçoes web. E baseado em uma estrutura de objetos JavaScript e usaa pares de chave-valor para representar dados. JSON e facilmente lido e escrito por maquinas e amplamente utilizado como formato de incremento de dados em aplicaçoes web modernas."
   ]
  },
  {
   "cell_type": "code",
   "execution_count": 12,
   "id": "cc760a2a",
   "metadata": {},
   "outputs": [],
   "source": [
    "# Criando um dicionario\n",
    "dict = {'nome': 'Isabelly Moraes',\n",
    "        'linguagem': 'Python',\n",
    "        'similar': ['c','Modula-3', 'lisp'],\n",
    "         'users': 1000000}"
   ]
  },
  {
   "cell_type": "code",
   "execution_count": 13,
   "id": "22482959",
   "metadata": {},
   "outputs": [
    {
     "name": "stdout",
     "output_type": "stream",
     "text": [
      "nome Isabelly Moraes\n",
      "linguagem Python\n",
      "similar ['c', 'Modula-3', 'lisp']\n",
      "users 1000000\n"
     ]
    }
   ],
   "source": [
    "for k,v in dict.items():\n",
    "    print(k,v)"
   ]
  },
  {
   "cell_type": "code",
   "execution_count": 14,
   "id": "42adf524",
   "metadata": {},
   "outputs": [],
   "source": [
    "# Importando o modulo Json\n",
    "import json"
   ]
  },
  {
   "cell_type": "code",
   "execution_count": 15,
   "id": "006c02f9",
   "metadata": {},
   "outputs": [
    {
     "data": {
      "text/plain": [
       "'{\"nome\": \"Isabelly Moraes\", \"linguagem\": \"Python\", \"similar\": [\"c\", \"Modula-3\", \"lisp\"], \"users\": 1000000}'"
      ]
     },
     "execution_count": 15,
     "metadata": {},
     "output_type": "execute_result"
    }
   ],
   "source": [
    "# Convertendo o dicionario para um objeto json\n",
    "json.dumps(dict)"
   ]
  },
  {
   "cell_type": "code",
   "execution_count": null,
   "id": "7297f569",
   "metadata": {},
   "outputs": [],
   "source": [
    "# Criando um arquivo json\n",
    "with open('arquivos/cientista.txt', 'w') as arquivos:\n",
    "    arquivo.write(json.dumps(dict_Isabelly))"
   ]
  },
  {
   "cell_type": "code",
   "execution_count": null,
   "id": "0e493f6e",
   "metadata": {},
   "outputs": [],
   "source": [
    "# Leitura de arquivos json\n",
    "with open('arquivos/cientista.txt', 'r') as arquivos:\n",
    "    texto = arquivo.read()\n",
    "    dados = json.loads(texto)"
   ]
  },
  {
   "cell_type": "code",
   "execution_count": null,
   "id": "dcf11afa",
   "metadata": {},
   "outputs": [],
   "source": [
    "dados"
   ]
  },
  {
   "cell_type": "code",
   "execution_count": null,
   "id": "d9df8130",
   "metadata": {},
   "outputs": [],
   "source": [
    "print(dados['nome'])"
   ]
  },
  {
   "cell_type": "markdown",
   "id": "f71b4f52",
   "metadata": {},
   "source": [
    "# Fim"
   ]
  }
 ],
 "metadata": {
  "kernelspec": {
   "display_name": "Python 3 (ipykernel)",
   "language": "python",
   "name": "python3"
  },
  "language_info": {
   "codemirror_mode": {
    "name": "ipython",
    "version": 3
   },
   "file_extension": ".py",
   "mimetype": "text/x-python",
   "name": "python",
   "nbconvert_exporter": "python",
   "pygments_lexer": "ipython3",
   "version": "3.9.13"
  }
 },
 "nbformat": 4,
 "nbformat_minor": 5
}
